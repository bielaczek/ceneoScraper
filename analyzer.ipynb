{
 "cells": [
  {
   "cell_type": "markdown",
   "metadata": {},
   "source": [
    "### Import pakietów"
   ]
  },
  {
   "cell_type": "code",
   "execution_count": 95,
   "metadata": {},
   "outputs": [],
   "source": [
    "import os\n",
    "import pandas as pd\n",
    "import numpy as np\n",
    "from matplotlib import pyplot as plt"
   ]
  },
  {
   "cell_type": "markdown",
   "metadata": {},
   "source": [
    "### Wczytanie i przygotowanie danych"
   ]
  },
  {
   "cell_type": "code",
   "execution_count": 96,
   "metadata": {},
   "outputs": [
    {
     "name": "stdout",
     "output_type": "stream",
     "text": [
      "110556593\n",
      "39562616\n",
      "84514582\n",
      "96008085\n"
     ]
    }
   ],
   "source": [
    "print(*[filename.split(\".\")[0] for filename in os.listdir(\"./opinions\")], sep=\"\\n\")"
   ]
  },
  {
   "cell_type": "code",
   "execution_count": 97,
   "metadata": {},
   "outputs": [],
   "source": [
    "product_id = input(\"Podaj kod produktu: \")"
   ]
  },
  {
   "cell_type": "code",
   "execution_count": 98,
   "metadata": {},
   "outputs": [
    {
     "data": {
      "text/html": [
       "<div>\n",
       "<style scoped>\n",
       "    .dataframe tbody tr th:only-of-type {\n",
       "        vertical-align: middle;\n",
       "    }\n",
       "\n",
       "    .dataframe tbody tr th {\n",
       "        vertical-align: top;\n",
       "    }\n",
       "\n",
       "    .dataframe thead th {\n",
       "        text-align: right;\n",
       "    }\n",
       "</style>\n",
       "<table border=\"1\" class=\"dataframe\">\n",
       "  <thead>\n",
       "    <tr style=\"text-align: right;\">\n",
       "      <th></th>\n",
       "      <th>opinion_id</th>\n",
       "      <th>author</th>\n",
       "      <th>recommendation</th>\n",
       "      <th>stars</th>\n",
       "      <th>content</th>\n",
       "      <th>pros</th>\n",
       "      <th>cons</th>\n",
       "      <th>useful</th>\n",
       "      <th>unuseful</th>\n",
       "      <th>post_date</th>\n",
       "      <th>purchase_date</th>\n",
       "    </tr>\n",
       "  </thead>\n",
       "  <tbody>\n",
       "    <tr>\n",
       "      <th>0</th>\n",
       "      <td>3422858</td>\n",
       "      <td>Użytkownik Ceneo</td>\n",
       "      <td>Polecam</td>\n",
       "      <td>5/5</td>\n",
       "      <td>UWAGA, UWAGA do wszystkich zgłaszających probl...</td>\n",
       "      <td>[]</td>\n",
       "      <td>[]</td>\n",
       "      <td>57</td>\n",
       "      <td>7</td>\n",
       "      <td>2015-11-17 17:55:59</td>\n",
       "      <td>None</td>\n",
       "    </tr>\n",
       "    <tr>\n",
       "      <th>1</th>\n",
       "      <td>3529254</td>\n",
       "      <td>Marcin</td>\n",
       "      <td>Polecam</td>\n",
       "      <td>4,5/5</td>\n",
       "      <td>Ogólnie spoko, chociaż telefon po wyjęciu z pu...</td>\n",
       "      <td>[]</td>\n",
       "      <td>[przycisk home - trzeba mocno naciskać]</td>\n",
       "      <td>3</td>\n",
       "      <td>0</td>\n",
       "      <td>2016-01-13 00:44:40</td>\n",
       "      <td>2015-12-27 14:12:05</td>\n",
       "    </tr>\n",
       "    <tr>\n",
       "      <th>2</th>\n",
       "      <td>6706897</td>\n",
       "      <td>zedi</td>\n",
       "      <td>Polecam</td>\n",
       "      <td>4/5</td>\n",
       "      <td>Wady Słaby dźwięk z głośnika głównego - z tyłu...</td>\n",
       "      <td>[ekran nie do zbicia, wyświetlacza:  design:  ...</td>\n",
       "      <td>[bateria lądująca w godzine 100%, czas pracy n...</td>\n",
       "      <td>0</td>\n",
       "      <td>2</td>\n",
       "      <td>2018-03-14 00:45:39</td>\n",
       "      <td>None</td>\n",
       "    </tr>\n",
       "    <tr>\n",
       "      <th>3</th>\n",
       "      <td>3580458</td>\n",
       "      <td>Janek</td>\n",
       "      <td>Polecam</td>\n",
       "      <td>5/5</td>\n",
       "      <td>Smartphone szybki i stabilny. Super ekran doty...</td>\n",
       "      <td>[wyświetlacza:  design:  żywotność]</td>\n",
       "      <td>[]</td>\n",
       "      <td>37</td>\n",
       "      <td>16</td>\n",
       "      <td>2016-02-12 11:13:47</td>\n",
       "      <td>2016-01-25 12:30:40</td>\n",
       "    </tr>\n",
       "    <tr>\n",
       "      <th>4</th>\n",
       "      <td>3287614</td>\n",
       "      <td>maciej</td>\n",
       "      <td>Polecam</td>\n",
       "      <td>4/5</td>\n",
       "      <td>Generalnie bardzo dobry smartfon, moim zdaniem...</td>\n",
       "      <td>[funkcjonalność]</td>\n",
       "      <td>[]</td>\n",
       "      <td>35</td>\n",
       "      <td>14</td>\n",
       "      <td>2015-08-21 14:25:23</td>\n",
       "      <td>None</td>\n",
       "    </tr>\n",
       "    <tr>\n",
       "      <th>...</th>\n",
       "      <td>...</td>\n",
       "      <td>...</td>\n",
       "      <td>...</td>\n",
       "      <td>...</td>\n",
       "      <td>...</td>\n",
       "      <td>...</td>\n",
       "      <td>...</td>\n",
       "      <td>...</td>\n",
       "      <td>...</td>\n",
       "      <td>...</td>\n",
       "      <td>...</td>\n",
       "    </tr>\n",
       "    <tr>\n",
       "      <th>127</th>\n",
       "      <td>3502307</td>\n",
       "      <td>Użytkownik Ceneo</td>\n",
       "      <td>Polecam</td>\n",
       "      <td>5/5</td>\n",
       "      <td>5,0/5</td>\n",
       "      <td>[]</td>\n",
       "      <td>[]</td>\n",
       "      <td>0</td>\n",
       "      <td>0</td>\n",
       "      <td>2015-12-29 18:45:09</td>\n",
       "      <td>None</td>\n",
       "    </tr>\n",
       "    <tr>\n",
       "      <th>128</th>\n",
       "      <td>3455136</td>\n",
       "      <td>Użytkownik Ceneo</td>\n",
       "      <td>Polecam</td>\n",
       "      <td>5/5</td>\n",
       "      <td>5,0/5</td>\n",
       "      <td>[]</td>\n",
       "      <td>[]</td>\n",
       "      <td>0</td>\n",
       "      <td>0</td>\n",
       "      <td>2015-12-04 22:52:58</td>\n",
       "      <td>None</td>\n",
       "    </tr>\n",
       "    <tr>\n",
       "      <th>129</th>\n",
       "      <td>3442558</td>\n",
       "      <td>Użytkownik Ceneo</td>\n",
       "      <td>Polecam</td>\n",
       "      <td>5/5</td>\n",
       "      <td>5,0/5</td>\n",
       "      <td>[]</td>\n",
       "      <td>[]</td>\n",
       "      <td>0</td>\n",
       "      <td>0</td>\n",
       "      <td>2015-11-27 13:16:18</td>\n",
       "      <td>None</td>\n",
       "    </tr>\n",
       "    <tr>\n",
       "      <th>130</th>\n",
       "      <td>3430751</td>\n",
       "      <td>Użytkownik Ceneo</td>\n",
       "      <td>Polecam</td>\n",
       "      <td>5/5</td>\n",
       "      <td>5,0/5</td>\n",
       "      <td>[]</td>\n",
       "      <td>[]</td>\n",
       "      <td>0</td>\n",
       "      <td>0</td>\n",
       "      <td>2015-11-21 13:41:11</td>\n",
       "      <td>None</td>\n",
       "    </tr>\n",
       "    <tr>\n",
       "      <th>131</th>\n",
       "      <td>3430195</td>\n",
       "      <td>Użytkownik Ceneo</td>\n",
       "      <td>Polecam</td>\n",
       "      <td>5/5</td>\n",
       "      <td>5,0/5</td>\n",
       "      <td>[]</td>\n",
       "      <td>[]</td>\n",
       "      <td>0</td>\n",
       "      <td>0</td>\n",
       "      <td>2015-11-21 01:09:18</td>\n",
       "      <td>None</td>\n",
       "    </tr>\n",
       "  </tbody>\n",
       "</table>\n",
       "<p>132 rows × 11 columns</p>\n",
       "</div>"
      ],
      "text/plain": [
       "     opinion_id            author recommendation  stars  \\\n",
       "0       3422858  Użytkownik Ceneo        Polecam    5/5   \n",
       "1       3529254            Marcin        Polecam  4,5/5   \n",
       "2       6706897              zedi        Polecam    4/5   \n",
       "3       3580458             Janek        Polecam    5/5   \n",
       "4       3287614            maciej        Polecam    4/5   \n",
       "..          ...               ...            ...    ...   \n",
       "127     3502307  Użytkownik Ceneo        Polecam    5/5   \n",
       "128     3455136  Użytkownik Ceneo        Polecam    5/5   \n",
       "129     3442558  Użytkownik Ceneo        Polecam    5/5   \n",
       "130     3430751  Użytkownik Ceneo        Polecam    5/5   \n",
       "131     3430195  Użytkownik Ceneo        Polecam    5/5   \n",
       "\n",
       "                                               content  \\\n",
       "0    UWAGA, UWAGA do wszystkich zgłaszających probl...   \n",
       "1    Ogólnie spoko, chociaż telefon po wyjęciu z pu...   \n",
       "2    Wady Słaby dźwięk z głośnika głównego - z tyłu...   \n",
       "3    Smartphone szybki i stabilny. Super ekran doty...   \n",
       "4    Generalnie bardzo dobry smartfon, moim zdaniem...   \n",
       "..                                                 ...   \n",
       "127                                              5,0/5   \n",
       "128                                              5,0/5   \n",
       "129                                              5,0/5   \n",
       "130                                              5,0/5   \n",
       "131                                              5,0/5   \n",
       "\n",
       "                                                  pros  \\\n",
       "0                                                   []   \n",
       "1                                                   []   \n",
       "2    [ekran nie do zbicia, wyświetlacza:  design:  ...   \n",
       "3                  [wyświetlacza:  design:  żywotność]   \n",
       "4                                     [funkcjonalność]   \n",
       "..                                                 ...   \n",
       "127                                                 []   \n",
       "128                                                 []   \n",
       "129                                                 []   \n",
       "130                                                 []   \n",
       "131                                                 []   \n",
       "\n",
       "                                                  cons  useful  unuseful  \\\n",
       "0                                                   []      57         7   \n",
       "1              [przycisk home - trzeba mocno naciskać]       3         0   \n",
       "2    [bateria lądująca w godzine 100%, czas pracy n...       0         2   \n",
       "3                                                   []      37        16   \n",
       "4                                                   []      35        14   \n",
       "..                                                 ...     ...       ...   \n",
       "127                                                 []       0         0   \n",
       "128                                                 []       0         0   \n",
       "129                                                 []       0         0   \n",
       "130                                                 []       0         0   \n",
       "131                                                 []       0         0   \n",
       "\n",
       "               post_date        purchase_date  \n",
       "0    2015-11-17 17:55:59                 None  \n",
       "1    2016-01-13 00:44:40  2015-12-27 14:12:05  \n",
       "2    2018-03-14 00:45:39                 None  \n",
       "3    2016-02-12 11:13:47  2016-01-25 12:30:40  \n",
       "4    2015-08-21 14:25:23                 None  \n",
       "..                   ...                  ...  \n",
       "127  2015-12-29 18:45:09                 None  \n",
       "128  2015-12-04 22:52:58                 None  \n",
       "129  2015-11-27 13:16:18                 None  \n",
       "130  2015-11-21 13:41:11                 None  \n",
       "131  2015-11-21 01:09:18                 None  \n",
       "\n",
       "[132 rows x 11 columns]"
      ]
     },
     "execution_count": 98,
     "metadata": {},
     "output_type": "execute_result"
    }
   ],
   "source": [
    "opinions = pd.read_json(f\"./opinions/{product_id}.json\")\n",
    "opinions"
   ]
  },
  {
   "cell_type": "code",
   "execution_count": 99,
   "metadata": {},
   "outputs": [],
   "source": [
    "opinions['stars'] = (opinions['stars']).apply(lambda s: s.split(\"/\")[0].replace(\",\", \".\")).astype(float)\n",
    "opinions[\"useful\"] = opinions['useful'].astype(int)\n",
    "opinions[\"unuseful\"] = opinions['unuseful'].astype(int)"
   ]
  },
  {
   "cell_type": "markdown",
   "metadata": {},
   "source": [
    "### Podstawowe statystyki"
   ]
  },
  {
   "cell_type": "code",
   "execution_count": 100,
   "metadata": {},
   "outputs": [
    {
     "name": "stdout",
     "output_type": "stream",
     "text": [
      "Liczba opinii o produkcie: 132\n",
      "Liczba opinii z podaną listą zalet: 30\n",
      "Liczba opinii z podaną listą wad: 14\n",
      "Liczba opinii z podaną listą zalet i wad: 9\n",
      "Średnia ocena produktu: 4.47\n"
     ]
    }
   ],
   "source": [
    "opinions_count = opinions.shape[0]\n",
    "pros_count = opinions['pros'].astype(bool).sum()\n",
    "cons_count = opinions['cons'].astype(bool).sum()\n",
    "pros_cons_count = opinions.apply(lambda o: bool(o['pros']) and bool(o['cons']), axis=1).sum()\n",
    "average_stars = opinions['stars'].mean()\n",
    "print(f'Liczba opinii o produkcie: {opinions_count}')\n",
    "print(f'Liczba opinii z podaną listą zalet: {pros_count}')\n",
    "print(f'Liczba opinii z podaną listą wad: {cons_count}')\n",
    "print(f'Liczba opinii z podaną listą zalet i wad: {pros_cons_count}')\n",
    "print(f'Średnia ocena produktu: {average_stars:.3}')"
   ]
  },
  {
   "cell_type": "code",
   "execution_count": 101,
   "metadata": {},
   "outputs": [
    {
     "name": "stdout",
     "output_type": "stream",
     "text": [
      "Lista unikatowych zalet: pros\n",
      "funkcjonalność                              20\n",
      "wygląd                                       9\n",
      "czas pracy na baterii                        6\n",
      "łatwość obsługi                              6\n",
      "bateria lądująca w godzine 100%              5\n",
      "wododporność                                 5\n",
      "wyświetlacza:  design:  żywotność            5\n",
      "ekran nie do zbicia                          3\n",
      "bateria dwa dni trzyma przy dość intensy     2\n",
      "wady oprogramowania                          2\n",
      "po pół roku użytkowania się zawiesza         1\n",
      "przycisk home - trzeba mocno naciskać        1\n",
      "Name: count, dtype: int64\n",
      "Lista unikatowych wad: cons\n",
      "bateria lądująca w godzine 100%             3\n",
      "czas pracy na baterii                       3\n",
      "słaba jakość dźwięku z głośniczka           3\n",
      "wododporność                                3\n",
      "funkcjonalność                              3\n",
      "potrafi zamulac                             3\n",
      "przycisk home - trzeba mocno naciskać       2\n",
      "bateria dwa dni trzyma przy dość intensy    2\n",
      "wady oprogramowania                         2\n",
      "nie daje rady z wieloma aplikacjami         1\n",
      "po pół roku użytkowania się zawiesza        1\n",
      "sam nie raz się wyłączył                    1\n",
      "zacina się                                  1\n",
      "brak mhl                                    1\n",
      "możliwości podłączenia do tv                1\n",
      "Name: count, dtype: int64\n"
     ]
    }
   ],
   "source": [
    "pros = opinions.pros.explode().dropna().value_counts()\n",
    "cons = opinions.cons.explode().dropna().value_counts()\n",
    "print(f'Lista unikatowych zalet: {pros}')\n",
    "print(f'Lista unikatowych wad: {cons}')\n"
   ]
  },
  {
   "cell_type": "markdown",
   "metadata": {},
   "source": [
    "### Wykresy"
   ]
  },
  {
   "cell_type": "code",
   "execution_count": 104,
   "metadata": {},
   "outputs": [
    {
     "data": {
      "text/plain": [
       "recommendation\n",
       "Nie polecam      7\n",
       "Polecam        114\n",
       "None            11\n",
       "Name: count, dtype: int64"
      ]
     },
     "execution_count": 104,
     "metadata": {},
     "output_type": "execute_result"
    }
   ],
   "source": [
    "recommendations = opinions['recommendation'].value_counts(dropna=False).reindex([\"Nie polecam\", \"Polecam\", None], fill_value=0)\n",
    "recommendations"
   ]
  },
  {
   "cell_type": "code",
   "execution_count": 109,
   "metadata": {},
   "outputs": [
    {
     "data": {
      "text/plain": [
       "<Axes: title={'center': 'Rozkad rekomendacji w opiniach o produkcie 39562616'}>"
      ]
     },
     "execution_count": 109,
     "metadata": {},
     "output_type": "execute_result"
    },
    {
     "data": {
      "image/png": "[encoded data removed]",
      "text/plain": [
       "<Figure size 640x480 with 1 Axes>"
      ]
     },
     "metadata": {},
     "output_type": "display_data"
    }
   ],
   "source": [
    "recommendations.plot.pie(\n",
    "    label=\"\",\n",
    "    title=f\"Rozkad rekomendacji w opiniach o produkcie {product_id}\",\n",
    "    labels = [\"Nie polecam\", \"Polecam\", \"Nie mam zdania\"],\n",
    "    colors = ['crimson', 'forestgreen', 'lightgrey'],\n",
    "    autopct = '%1.1f%%'\n",
    "    )"
   ]
  }
 ],
 "metadata": {
  "kernelspec": {
   "display_name": ".venv",
   "language": "python",
   "name": "python3"
  },
  "language_info": {
   "codemirror_mode": {
    "name": "ipython",
    "version": 3
   },
   "file_extension": ".py",
   "mimetype": "text/x-python",
   "name": "python",
   "nbconvert_exporter": "python",
   "pygments_lexer": "ipython3",
   "version": "3.11.4"
  }
 },
 "nbformat": 4,
 "nbformat_minor": 2
}
